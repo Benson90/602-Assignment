{
 "cells": [
  {
   "cell_type": "code",
   "execution_count": 16,
   "id": "3fce4bfc",
   "metadata": {},
   "outputs": [
    {
     "data": {
      "text/plain": [
       "'\\nCreated on Sat Mar 18 14:47:48 2023\\nhttps://data.cityofnewyork.us/City-Government/NYC-Jobs/kpav-sd4t\\n@author: benson\\n'"
      ]
     },
     "execution_count": 16,
     "metadata": {},
     "output_type": "execute_result"
    }
   ],
   "source": [
    "\"\"\"\n",
    "Created on Sat Mar 18 14:47:48 2023\n",
    "https://data.cityofnewyork.us/City-Government/NYC-Jobs/kpav-sd4t\n",
    "@author: benson\n",
    "\"\"\""
   ]
  },
  {
   "cell_type": "markdown",
   "id": "e6b1cab5",
   "metadata": {},
   "source": [
    "## Introduction\n",
    "\n",
    "The dataset I am using is the City Government NYC Job listing from NYC DATA. Link source:(https://data.cityofnewyork.us/City-Government/NYC-Jobs/kpav-sd4t). \n",
    "\n",
    "This data set has multiple data types that allow me to play around and practice many things in Pandas—for example, Clean Null value, changing data type, etc.\n",
    "\n",
    "Also, it can provide meaningful information on the current job posting for someone looking to change a career in an unpredictable economy.\n",
    "\n",
    "There are many more detailed analyses from this dataset, like, job skills, Job category in demand, and more. But I will focus on the job salary in this analysis. \n"
   ]
  },
  {
   "cell_type": "markdown",
   "id": "a7963373",
   "metadata": {},
   "source": [
    "Import Pandas and read CSV file into Pandas Dataframe"
   ]
  },
  {
   "cell_type": "code",
   "execution_count": 17,
   "id": "b802d7d6",
   "metadata": {},
   "outputs": [],
   "source": [
    "import pandas as pd\n",
    "import matplotlib.pyplot as plt"
   ]
  },
  {
   "cell_type": "code",
   "execution_count": 18,
   "id": "920b52fb",
   "metadata": {},
   "outputs": [],
   "source": [
    "df = pd.read_csv('NYC_Jobs.csv')"
   ]
  },
  {
   "cell_type": "code",
   "execution_count": 19,
   "id": "c1912d03",
   "metadata": {},
   "outputs": [
    {
     "data": {
      "text/html": [
       "<div>\n",
       "<style scoped>\n",
       "    .dataframe tbody tr th:only-of-type {\n",
       "        vertical-align: middle;\n",
       "    }\n",
       "\n",
       "    .dataframe tbody tr th {\n",
       "        vertical-align: top;\n",
       "    }\n",
       "\n",
       "    .dataframe thead th {\n",
       "        text-align: right;\n",
       "    }\n",
       "</style>\n",
       "<table border=\"1\" class=\"dataframe\">\n",
       "  <thead>\n",
       "    <tr style=\"text-align: right;\">\n",
       "      <th></th>\n",
       "      <th>Job ID</th>\n",
       "      <th>Agency</th>\n",
       "      <th>Posting Type</th>\n",
       "      <th># Of Positions</th>\n",
       "      <th>Business Title</th>\n",
       "      <th>Civil Service Title</th>\n",
       "      <th>Title Classification</th>\n",
       "      <th>Title Code No</th>\n",
       "      <th>Level</th>\n",
       "      <th>Job Category</th>\n",
       "      <th>...</th>\n",
       "      <th>Additional Information</th>\n",
       "      <th>To Apply</th>\n",
       "      <th>Hours/Shift</th>\n",
       "      <th>Work Location 1</th>\n",
       "      <th>Recruitment Contact</th>\n",
       "      <th>Residency Requirement</th>\n",
       "      <th>Posting Date</th>\n",
       "      <th>Post Until</th>\n",
       "      <th>Posting Updated</th>\n",
       "      <th>Process Date</th>\n",
       "    </tr>\n",
       "  </thead>\n",
       "  <tbody>\n",
       "    <tr>\n",
       "      <th>0</th>\n",
       "      <td>576947</td>\n",
       "      <td>DEPARTMENT OF BUILDINGS</td>\n",
       "      <td>Internal</td>\n",
       "      <td>3</td>\n",
       "      <td>Plan Examiner</td>\n",
       "      <td>PLAN EXAMINER (BLDGS)</td>\n",
       "      <td>Competitive-1</td>\n",
       "      <td>22410</td>\n",
       "      <td>00</td>\n",
       "      <td>Engineering, Architecture, &amp; Planning</td>\n",
       "      <td>...</td>\n",
       "      <td>You must be able to understand and be understo...</td>\n",
       "      <td>For Non-City/External Candidates: Visit the Ex...</td>\n",
       "      <td>NaN</td>\n",
       "      <td>CITYWIDE Unit assignment and work location are...</td>\n",
       "      <td>NaN</td>\n",
       "      <td>New York City Residency is not required for th...</td>\n",
       "      <td>03/01/2023</td>\n",
       "      <td>31-MAR-2023</td>\n",
       "      <td>03/01/2023</td>\n",
       "      <td>03/07/2023</td>\n",
       "    </tr>\n",
       "    <tr>\n",
       "      <th>1</th>\n",
       "      <td>564623</td>\n",
       "      <td>OFFICE OF LABOR RELATIONS</td>\n",
       "      <td>Internal</td>\n",
       "      <td>13</td>\n",
       "      <td>Data Processor</td>\n",
       "      <td>COMMUNITY ASSISTANT</td>\n",
       "      <td>Non-Competitive-5</td>\n",
       "      <td>56056</td>\n",
       "      <td>00</td>\n",
       "      <td>Administration &amp; Human Resources</td>\n",
       "      <td>...</td>\n",
       "      <td>PLEASE NOTE:  THIS IS A TEMPORARY POSITION UNT...</td>\n",
       "      <td>TO APPLY PLEASE SUBMIT YOUR COVER LETTER AND R...</td>\n",
       "      <td>NaN</td>\n",
       "      <td>NaN</td>\n",
       "      <td>NaN</td>\n",
       "      <td>New York City residency is generally required ...</td>\n",
       "      <td>12/29/2022</td>\n",
       "      <td>NaN</td>\n",
       "      <td>03/06/2023</td>\n",
       "      <td>03/07/2023</td>\n",
       "    </tr>\n",
       "    <tr>\n",
       "      <th>2</th>\n",
       "      <td>533544</td>\n",
       "      <td>ADMIN FOR CHILDREN'S SVCS</td>\n",
       "      <td>External</td>\n",
       "      <td>1</td>\n",
       "      <td>Security Consultant, Horizon</td>\n",
       "      <td>COMMUNITY COORDINATOR</td>\n",
       "      <td>Non-Competitive-5</td>\n",
       "      <td>56058</td>\n",
       "      <td>00</td>\n",
       "      <td>Public Safety, Inspections, &amp; Enforcement</td>\n",
       "      <td>...</td>\n",
       "      <td>Section 424-A of the New York Social Services ...</td>\n",
       "      <td>Click on the Apply button now.</td>\n",
       "      <td>NaN</td>\n",
       "      <td>NaN</td>\n",
       "      <td>NaN</td>\n",
       "      <td>New York City residency is generally required ...</td>\n",
       "      <td>08/19/2022</td>\n",
       "      <td>NaN</td>\n",
       "      <td>08/19/2022</td>\n",
       "      <td>03/07/2023</td>\n",
       "    </tr>\n",
       "    <tr>\n",
       "      <th>3</th>\n",
       "      <td>545994</td>\n",
       "      <td>DEPARTMENT OF TRANSPORTATION</td>\n",
       "      <td>Internal</td>\n",
       "      <td>1</td>\n",
       "      <td>Civil Engineer Level -3</td>\n",
       "      <td>CIVIL ENGINEER</td>\n",
       "      <td>Competitive-1</td>\n",
       "      <td>20215</td>\n",
       "      <td>03</td>\n",
       "      <td>Engineering, Architecture, &amp; Planning</td>\n",
       "      <td>...</td>\n",
       "      <td>The City of New York is an inclusive equal opp...</td>\n",
       "      <td>Resumes may be submitted electronically using ...</td>\n",
       "      <td>35 Hours</td>\n",
       "      <td>55 Water St Ny Ny</td>\n",
       "      <td>NaN</td>\n",
       "      <td>New York City Residency is not required for th...</td>\n",
       "      <td>09/27/2022</td>\n",
       "      <td>NaN</td>\n",
       "      <td>10/04/2022</td>\n",
       "      <td>03/07/2023</td>\n",
       "    </tr>\n",
       "    <tr>\n",
       "      <th>4</th>\n",
       "      <td>538672</td>\n",
       "      <td>HRA/DEPT OF SOCIAL SERVICES</td>\n",
       "      <td>External</td>\n",
       "      <td>1</td>\n",
       "      <td>DIRECTOR, SNT PROGRAM</td>\n",
       "      <td>EXECUTIVE AGENCY COUNSEL</td>\n",
       "      <td>Non-Competitive-5</td>\n",
       "      <td>95005</td>\n",
       "      <td>M2</td>\n",
       "      <td>Administration &amp; Human Resources Constituent S...</td>\n",
       "      <td>...</td>\n",
       "      <td>**LOAN FORGIVENESS  The federal government pro...</td>\n",
       "      <td>Click Apply Now Button</td>\n",
       "      <td>Monday to Friday: 9 - 5.</td>\n",
       "      <td>NaN</td>\n",
       "      <td>NaN</td>\n",
       "      <td>New York City residency is generally required ...</td>\n",
       "      <td>07/15/2022</td>\n",
       "      <td>NaN</td>\n",
       "      <td>12/12/2022</td>\n",
       "      <td>03/07/2023</td>\n",
       "    </tr>\n",
       "  </tbody>\n",
       "</table>\n",
       "<p>5 rows × 30 columns</p>\n",
       "</div>"
      ],
      "text/plain": [
       "   Job ID                        Agency Posting Type  # Of Positions  \\\n",
       "0  576947       DEPARTMENT OF BUILDINGS     Internal               3   \n",
       "1  564623     OFFICE OF LABOR RELATIONS     Internal              13   \n",
       "2  533544     ADMIN FOR CHILDREN'S SVCS     External               1   \n",
       "3  545994  DEPARTMENT OF TRANSPORTATION     Internal               1   \n",
       "4  538672   HRA/DEPT OF SOCIAL SERVICES     External               1   \n",
       "\n",
       "                 Business Title       Civil Service Title  \\\n",
       "0                 Plan Examiner     PLAN EXAMINER (BLDGS)   \n",
       "1                Data Processor       COMMUNITY ASSISTANT   \n",
       "2  Security Consultant, Horizon     COMMUNITY COORDINATOR   \n",
       "3       Civil Engineer Level -3            CIVIL ENGINEER   \n",
       "4         DIRECTOR, SNT PROGRAM  EXECUTIVE AGENCY COUNSEL   \n",
       "\n",
       "  Title Classification Title Code No Level  \\\n",
       "0        Competitive-1         22410    00   \n",
       "1    Non-Competitive-5         56056    00   \n",
       "2    Non-Competitive-5         56058    00   \n",
       "3        Competitive-1         20215    03   \n",
       "4    Non-Competitive-5         95005    M2   \n",
       "\n",
       "                                        Job Category  ...  \\\n",
       "0              Engineering, Architecture, & Planning  ...   \n",
       "1                   Administration & Human Resources  ...   \n",
       "2          Public Safety, Inspections, & Enforcement  ...   \n",
       "3              Engineering, Architecture, & Planning  ...   \n",
       "4  Administration & Human Resources Constituent S...  ...   \n",
       "\n",
       "                              Additional Information  \\\n",
       "0  You must be able to understand and be understo...   \n",
       "1  PLEASE NOTE:  THIS IS A TEMPORARY POSITION UNT...   \n",
       "2  Section 424-A of the New York Social Services ...   \n",
       "3  The City of New York is an inclusive equal opp...   \n",
       "4  **LOAN FORGIVENESS  The federal government pro...   \n",
       "\n",
       "                                            To Apply  \\\n",
       "0  For Non-City/External Candidates: Visit the Ex...   \n",
       "1  TO APPLY PLEASE SUBMIT YOUR COVER LETTER AND R...   \n",
       "2                     Click on the Apply button now.   \n",
       "3  Resumes may be submitted electronically using ...   \n",
       "4                             Click Apply Now Button   \n",
       "\n",
       "                Hours/Shift  \\\n",
       "0                       NaN   \n",
       "1                       NaN   \n",
       "2                       NaN   \n",
       "3                  35 Hours   \n",
       "4  Monday to Friday: 9 - 5.   \n",
       "\n",
       "                                     Work Location 1 Recruitment Contact  \\\n",
       "0  CITYWIDE Unit assignment and work location are...                 NaN   \n",
       "1                                                NaN                 NaN   \n",
       "2                                                NaN                 NaN   \n",
       "3                                  55 Water St Ny Ny                 NaN   \n",
       "4                                                NaN                 NaN   \n",
       "\n",
       "                               Residency Requirement Posting Date  \\\n",
       "0  New York City Residency is not required for th...   03/01/2023   \n",
       "1  New York City residency is generally required ...   12/29/2022   \n",
       "2  New York City residency is generally required ...   08/19/2022   \n",
       "3  New York City Residency is not required for th...   09/27/2022   \n",
       "4  New York City residency is generally required ...   07/15/2022   \n",
       "\n",
       "    Post Until Posting Updated Process Date  \n",
       "0  31-MAR-2023      03/01/2023   03/07/2023  \n",
       "1          NaN      03/06/2023   03/07/2023  \n",
       "2          NaN      08/19/2022   03/07/2023  \n",
       "3          NaN      10/04/2022   03/07/2023  \n",
       "4          NaN      12/12/2022   03/07/2023  \n",
       "\n",
       "[5 rows x 30 columns]"
      ]
     },
     "execution_count": 19,
     "metadata": {},
     "output_type": "execute_result"
    }
   ],
   "source": [
    "df.head()"
   ]
  },
  {
   "cell_type": "markdown",
   "id": "7456dc56",
   "metadata": {},
   "source": [
    " # Data Wrangling \n",
    " Display the data type"
   ]
  },
  {
   "cell_type": "code",
   "execution_count": 20,
   "id": "3361f48c",
   "metadata": {},
   "outputs": [
    {
     "data": {
      "text/plain": [
       "Job ID                             int64\n",
       "Agency                            object\n",
       "Posting Type                      object\n",
       "# Of Positions                     int64\n",
       "Business Title                    object\n",
       "Civil Service Title               object\n",
       "Title Classification              object\n",
       "Title Code No                     object\n",
       "Level                             object\n",
       "Job Category                      object\n",
       "Full-Time/Part-Time indicator     object\n",
       "Career Level                      object\n",
       "Salary Range From                float64\n",
       "Salary Range To                  float64\n",
       "Salary Frequency                  object\n",
       "Work Location                     object\n",
       "Division/Work Unit                object\n",
       "Job Description                   object\n",
       "Minimum Qual Requirements         object\n",
       "Preferred Skills                  object\n",
       "Additional Information            object\n",
       "To Apply                          object\n",
       "Hours/Shift                       object\n",
       "Work Location 1                   object\n",
       "Recruitment Contact              float64\n",
       "Residency Requirement             object\n",
       "Posting Date                      object\n",
       "Post Until                        object\n",
       "Posting Updated                   object\n",
       "Process Date                      object\n",
       "dtype: object"
      ]
     },
     "execution_count": 20,
     "metadata": {},
     "output_type": "execute_result"
    }
   ],
   "source": [
    "df.dtypes"
   ]
  },
  {
   "cell_type": "markdown",
   "id": "25cf3b6b",
   "metadata": {},
   "source": [
    "1) Modify multiple column names."
   ]
  },
  {
   "cell_type": "code",
   "execution_count": 21,
   "id": "55b37cfc",
   "metadata": {},
   "outputs": [],
   "source": [
    "rename_dict = {'# Of Positions': 'Number of Position', 'Full-Time/Part-Time indicator': 'Job Type'}\n",
    "df = df.rename(columns=rename_dict)"
   ]
  },
  {
   "cell_type": "markdown",
   "id": "330fe87d",
   "metadata": {},
   "source": [
    "2) Look at the structure of your data – are any variables improperly coded? Such as strings or characters? Convert to correct structure if needed.\n",
    "Convert the string to date data type"
   ]
  },
  {
   "cell_type": "code",
   "execution_count": 22,
   "id": "8c743982",
   "metadata": {},
   "outputs": [],
   "source": [
    "df['Posting Date'] = pd.to_datetime(df['Posting Date'])\n",
    "df['Posting Updated'] = pd.to_datetime(df['Posting Updated'])\n",
    "df['Process Date'] = pd.to_datetime(df['Process Date'])\n"
   ]
  },
  {
   "cell_type": "markdown",
   "id": "db88fabf",
   "metadata": {},
   "source": [
    "3) Fix missing and invalid values in data.\n",
    "Check any Null Value and drop it in #6"
   ]
  },
  {
   "cell_type": "code",
   "execution_count": 23,
   "id": "1f5ecd6a",
   "metadata": {},
   "outputs": [
    {
     "name": "stdout",
     "output_type": "stream",
     "text": [
      "Job ID                       False\n",
      "Agency                       False\n",
      "Posting Type                 False\n",
      "Number of Position           False\n",
      "Business Title               False\n",
      "Civil Service Title          False\n",
      "Title Classification         False\n",
      "Title Code No                False\n",
      "Level                        False\n",
      "Job Category                  True\n",
      "Job Type                      True\n",
      "Career Level                  True\n",
      "Salary Range From            False\n",
      "Salary Range To              False\n",
      "Salary Frequency             False\n",
      "Work Location                False\n",
      "Division/Work Unit           False\n",
      "Job Description              False\n",
      "Minimum Qual Requirements     True\n",
      "Preferred Skills              True\n",
      "Additional Information        True\n",
      "To Apply                     False\n",
      "Hours/Shift                   True\n",
      "Work Location 1               True\n",
      "Recruitment Contact           True\n",
      "Residency Requirement        False\n",
      "Posting Date                 False\n",
      "Post Until                    True\n",
      "Posting Updated              False\n",
      "Process Date                 False\n",
      "dtype: bool\n"
     ]
    }
   ],
   "source": [
    "print(df.isna().any(axis=0))\n",
    "\n",
    "# Check number of records\n",
    "num_rows = len(df)"
   ]
  },
  {
   "cell_type": "markdown",
   "id": "d1a7e027",
   "metadata": {},
   "source": [
    "4) Create new columns based on existing columns or calculations."
   ]
  },
  {
   "cell_type": "code",
   "execution_count": 24,
   "id": "0baa81fb",
   "metadata": {},
   "outputs": [],
   "source": [
    "df['Average Salary'] = (df['Salary Range From'] + df['Salary Range To'] )/2\n",
    "df['Job Category Type'] = df['Job Category'].str.extract('(\\w+)')\n"
   ]
  },
  {
   "cell_type": "markdown",
   "id": "ab3f73f2",
   "metadata": {},
   "source": [
    "5) Drop column(s) from your dataset.\n",
    "Drop Unused Column"
   ]
  },
  {
   "cell_type": "code",
   "execution_count": 25,
   "id": "698254cf",
   "metadata": {},
   "outputs": [],
   "source": [
    "df = df.drop('Post Until', axis=1)\n",
    "df = df.drop('Recruitment Contact', axis=1)\n",
    "df = df.drop('Work Location 1', axis=1)\n",
    "df = df.drop('Additional Information', axis=1)\n",
    "df = df.drop('Hours/Shift', axis=1)"
   ]
  },
  {
   "cell_type": "markdown",
   "id": "885b66e2",
   "metadata": {},
   "source": [
    "6) Drop a row(s) from your dataset.\n",
    "Drop Nan Records"
   ]
  },
  {
   "cell_type": "code",
   "execution_count": 26,
   "id": "99a7038d",
   "metadata": {},
   "outputs": [],
   "source": [
    "df = df.dropna()\n",
    "\n",
    "# 6303 - 5164 = 1139 row removed for incomplete records \n",
    "num_rows_updated = len(df)"
   ]
  },
  {
   "cell_type": "markdown",
   "id": "70ebdc45",
   "metadata": {},
   "source": [
    "7) Sort your data based on multiple variables.\n",
    "8) Filter your data based on some condition.\n",
    "create new dataframe for some specific analysis (filtering and sorting)"
   ]
  },
  {
   "cell_type": "code",
   "execution_count": 27,
   "id": "b8ebf5e3",
   "metadata": {},
   "outputs": [],
   "source": [
    "#only full time job with annual salary listing is used here.\n",
    "job_ft_salary_df = df[(df[\"Job Type\"]=='F') & (df[\"Salary Frequency\"] == \"Annual\")] \n",
    "\n",
    "job_ft_salary_df = job_ft_salary_df.loc[:, ['Job Category Type', 'Average Salary', 'Career Level']]\n",
    "job_ft_salary_df = job_ft_salary_df.sort_values([\"Job Category Type\", \"Average Salary\"],ascending =[True,True])\n"
   ]
  },
  {
   "cell_type": "markdown",
   "id": "33744de6",
   "metadata": {},
   "source": [
    "9) Convert all the string values to upper or lower cases in one column."
   ]
  },
  {
   "cell_type": "code",
   "execution_count": 28,
   "id": "7c7a86d5",
   "metadata": {},
   "outputs": [],
   "source": [
    "job_ft_salary_df['Job Category Type'] = df['Job Category Type'].str.upper()"
   ]
  },
  {
   "cell_type": "markdown",
   "id": "b400b599",
   "metadata": {},
   "source": [
    "10) Check whether numeric values are present in a given column of your dataframe."
   ]
  },
  {
   "cell_type": "code",
   "execution_count": 29,
   "id": "104d6353",
   "metadata": {},
   "outputs": [],
   "source": [
    "is_numeric = pd.to_numeric(job_ft_salary_df['Average Salary'], errors='coerce').notnull().all()\n",
    "\n"
   ]
  },
  {
   "cell_type": "markdown",
   "id": "47f4f666",
   "metadata": {},
   "source": [
    "11) Group your dataset by one column, and get the mean, min, and max values by group.\n",
    "        Groupby()\n",
    "        agg() or .apply()"
   ]
  },
  {
   "cell_type": "markdown",
   "id": "72fd856b",
   "metadata": {},
   "source": [
    "# Data Exploration\n",
    "\n",
    "    table 1"
   ]
  },
  {
   "cell_type": "code",
   "execution_count": 30,
   "id": "9fa06774",
   "metadata": {},
   "outputs": [
    {
     "name": "stdout",
     "output_type": "stream",
     "text": [
      "                  Average Salary                   \n",
      "                            mean      min       max\n",
      "Job Category Type                                  \n",
      "ADMINISTRATION      81760.297170  37979.5  212500.0\n",
      "BUILDING            65267.603385  37609.5  119204.0\n",
      "CLERICAL            42398.000000  40195.0   45694.5\n",
      "COMMUNICATIONS      91067.021898  39119.0  184335.5\n",
      "CONSTITUENT         67768.296733  34959.0  174081.5\n",
      "ENGINEERING         86418.015351  52923.0  231796.0\n",
      "FINANCE             86355.837500  39119.0  227449.0\n",
      "HEALTH              70817.960967  31377.0  175153.0\n",
      "INFORMATION         97312.250000  85211.5  109413.0\n",
      "LEGAL               79749.354756  37979.5  185000.0\n",
      "POLICY              83484.571795  41666.5  162500.0\n",
      "PUBLIC              71528.486425  29561.0  213783.0\n",
      "SOCIAL              71191.697778  34834.0  192500.0\n",
      "TECHNOLOGY          94834.736254  37500.0  185000.0\n"
     ]
    }
   ],
   "source": [
    "result = job_ft_salary_df.groupby('Job Category Type').agg({'Average Salary': ['mean', 'min', 'max']})\n",
    "\n",
    "print(result)"
   ]
  },
  {
   "cell_type": "markdown",
   "id": "3510bb8e",
   "metadata": {},
   "source": [
    "12) Group your dataset by two columns and then sort the aggregated results within the groups.\n"
   ]
  },
  {
   "cell_type": "code",
   "execution_count": 31,
   "id": "f808b8fb",
   "metadata": {},
   "outputs": [
    {
     "data": {
      "image/png": "[encoded data removed]",
      "text/plain": [
       "<Figure size 720x432 with 1 Axes>"
      ]
     },
     "metadata": {
      "needs_background": "light"
     },
     "output_type": "display_data"
    }
   ],
   "source": [
    "result2 = job_ft_salary_df.groupby(['Job Category Type','Career Level']).agg({'Average Salary': ['mean', 'min', 'max']})\n",
    "\n",
    "result2.plot(kind='bar', figsize=(10, 6))\n",
    "plt.title('Aggregated Data by Two Columns')\n",
    "plt.xlabel('Job Category Type')\n",
    "plt.ylabel('Mean Value')\n",
    "plt.show()"
   ]
  },
  {
   "cell_type": "markdown",
   "id": "d48506c4",
   "metadata": {},
   "source": [
    "# Conclusions\n",
    "\n",
    "I grouped many jobs into category 14 job types to find the average salary offering. The mean, min, and max salary results show some salary you can expect to earn from this job type. In table 1, the CLERICAL is offered the least average salary, and INFORMATION SYSTEM offers the most average salary.\n",
    "\n",
    "But we can notice the massive gap between Min's and Max's salaries. So I break down the career level (Job Title) to better understand each job category(Graph above). If you are looking for a new career (Entry Level), PUBLIC SAFETY, SOCIAL SERVICE, and POLICY RESEARCH are giving pretty good opportunities. Although they offer around 50k salary for entry-level, they have significant promotion opportunities to around 200k salary at the executive level, which is a big jump compared to other jobs."
   ]
  }
 ],
 "metadata": {
  "kernelspec": {
   "display_name": "Python 3 (ipykernel)",
   "language": "python",
   "name": "python3"
  },
  "language_info": {
   "codemirror_mode": {
    "name": "ipython",
    "version": 3
   },
   "file_extension": ".py",
   "mimetype": "text/x-python",
   "name": "python",
   "nbconvert_exporter": "python",
   "pygments_lexer": "ipython3",
   "version": "3.9.12"
  }
 },
 "nbformat": 4,
 "nbformat_minor": 5
}
